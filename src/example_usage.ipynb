{
 "cells": [
  {
   "cell_type": "code",
   "execution_count": 3,
   "metadata": {},
   "outputs": [
    {
     "name": "stderr",
     "output_type": "stream",
     "text": [
      "[nltk_data] Downloading package stopwords to\n",
      "[nltk_data]     C:\\Users\\Gate\\AppData\\Roaming\\nltk_data...\n",
      "[nltk_data]   Package stopwords is already up-to-date!\n"
     ]
    }
   ],
   "source": [
    "import main\n",
    "import concept\n",
    "import enums\n",
    "import query_conceptnet\n",
    "\n",
    "\n",
    "import importlib\n",
    "\n",
    "importlib.reload(main)\n",
    "importlib.reload(enums)\n",
    "importlib.reload(concept)\n",
    "importlib.reload(query_conceptnet)\n",
    "\n",
    "from main import *\n",
    "from query_conceptnet import *\n",
    "from concept import Concept\n",
    "from enums import *"
   ]
  },
  {
   "cell_type": "code",
   "execution_count": 4,
   "metadata": {},
   "outputs": [
    {
     "name": "stdout",
     "output_type": "stream",
     "text": [
      "/c/en/book/n\n",
      "Elapsed time for fetching relation /r/RelatedTo: 16.00 seconds (http://api.conceptnet.io/query?node=/c/en/book/n&other=/c/en&rel=/r/RelatedTo&offset=0&limit=20)\n",
      "Elapsed time for fetching relation /r/Synonym: 1.77 seconds (http://api.conceptnet.io/query?node=/c/en/book/n&other=/c/en&rel=/r/Synonym&offset=0&limit=20)\n",
      "Elapsed time for fetching relation /r/IsA: 16.25 seconds (http://api.conceptnet.io/query?node=/c/en/book/n&other=/c/en&rel=/r/IsA&offset=0&limit=20)\n",
      "Elapsed time for fetching relation /r/PartOf: 13.36 seconds (http://api.conceptnet.io/query?node=/c/en/book/n&other=/c/en&rel=/r/PartOf&offset=0&limit=20)\n",
      "Elapsed time for fetching relation /r/HasA: 3.09 seconds (http://api.conceptnet.io/query?node=/c/en/book/n&other=/c/en&rel=/r/HasA&offset=0&limit=20)\n",
      "Related concepts took: 50.68 seconds\n",
      "Related concepts: [('textbook', 1.0), ('arm', 1.0), ('university', 1.0), ('volume', 1.0), ('trick', 1.0), ('publication', 1.0), ('tome', 1.0), ('representation', 1.0), ('novel', 1.0), ('scroll', 1.0), ('script', 2.0), ('ledger', 2.0), ('volume', 2.0), ('tome', 1.0), ('section', 2.0), ('catalog', 2.0), ('notebook', 2.0), ('novel', 2.0), ('curiosa', 2.0), ('product', 2.0), ('publication', 2.0), ('bestiary', 2.0), ('rule', 2.0), ('text', 2.0), ('signature', 2.0), ('backbone', 2.0)]\n",
      "------------Related concepts ENDED-----------------\n",
      "Elapsed time for fetching random concepts: 8.42 seconds (http://api.conceptnet.io/query?node=/c/en&offset=26&limit=100)\n",
      "Get random concepts took: 8.57 seconds for 15 concepts\n",
      "/c/en/tree/n\n",
      "Elapsed time for fetching relation /r/RelatedTo: 1.18 seconds (http://api.conceptnet.io/query?node=/c/en/tree/n&other=/c/en&rel=/r/RelatedTo&offset=0&limit=20)\n",
      "Elapsed time for fetching relation /r/Synonym: 1.07 seconds (http://api.conceptnet.io/query?node=/c/en/tree/n&other=/c/en&rel=/r/Synonym&offset=0&limit=20)\n",
      "Elapsed time for fetching relation /r/IsA: 1.01 seconds (http://api.conceptnet.io/query?node=/c/en/tree/n&other=/c/en&rel=/r/IsA&offset=0&limit=20)\n",
      "Elapsed time for fetching relation /r/PartOf: 0.75 seconds (http://api.conceptnet.io/query?node=/c/en/tree/n&other=/c/en&rel=/r/PartOf&offset=0&limit=20)\n",
      "Elapsed time for fetching relation /r/HasA: 0.91 seconds (http://api.conceptnet.io/query?node=/c/en/tree/n&other=/c/en&rel=/r/HasA&offset=0&limit=20)\n",
      "Related concepts took: 5.08 seconds\n",
      "Related concepts: [('metal', 1.0), ('hook', 1.0), ('graph', 1.0), ('platform', 1.0), ('structure', 1.0), ('precipitation', 1.0), ('branch', 1.0), ('plant', 1.0), ('solution', 1.0), ('frame', 1.0), ('saddle', 1.0), ('tree', 0.5), ('kingwood', 2.0), ('birch', 2.0), ('laurelwood', 2.0), ('lancewood', 2.0), ('trunk', 2.0), ('stump', 2.0), ('limb', 2.0)]\n",
      "------------Related concepts ENDED-----------------\n",
      "Elapsed time for fetching random concepts: 11.26 seconds (http://api.conceptnet.io/query?node=/c/en&offset=5&limit=100)\n",
      "Get random concepts took: 11.45 seconds for 22 concepts\n",
      "/c/en/tree/n\n",
      "Elapsed time for fetching relation /r/RelatedTo: 1.03 seconds (http://api.conceptnet.io/query?node=/c/en/tree/n&other=/c/en&rel=/r/RelatedTo&offset=0&limit=20)\n",
      "Elapsed time for fetching relation /r/Synonym: 1.01 seconds (http://api.conceptnet.io/query?node=/c/en/tree/n&other=/c/en&rel=/r/Synonym&offset=0&limit=20)\n",
      "Elapsed time for fetching relation /r/IsA: 0.76 seconds (http://api.conceptnet.io/query?node=/c/en/tree/n&other=/c/en&rel=/r/IsA&offset=0&limit=20)\n",
      "Elapsed time for fetching relation /r/PartOf: 0.93 seconds (http://api.conceptnet.io/query?node=/c/en/tree/n&other=/c/en&rel=/r/PartOf&offset=0&limit=20)\n",
      "Elapsed time for fetching relation /r/HasA: 1.00 seconds (http://api.conceptnet.io/query?node=/c/en/tree/n&other=/c/en&rel=/r/HasA&offset=0&limit=20)\n",
      "Related concepts took: 4.93 seconds\n",
      "Related concepts: [('metal', 1.0), ('hook', 1.0), ('graph', 1.0), ('platform', 1.0), ('structure', 1.0), ('precipitation', 1.0), ('branch', 1.0), ('plant', 1.0), ('solution', 1.0), ('frame', 1.0), ('saddle', 1.0), ('tree', 0.5), ('kingwood', 2.0), ('birch', 2.0), ('laurelwood', 2.0), ('lancewood', 2.0), ('trunk', 2.0), ('stump', 2.0), ('limb', 2.0)]\n",
      "------------Related concepts ENDED-----------------\n",
      "Elapsed time for fetching random concepts: 9.94 seconds (http://api.conceptnet.io/query?node=/c/en&offset=62&limit=100)\n",
      "Get random concepts took: 10.14 seconds for 16 concepts\n",
      "Training Instance 1:\n",
      "Input: {'board': ['normality', 'neoliberalism', 'onomastics', 'catalog', 'ageism', 'peacekeeping', 'notebook', 'infrastructure', 'butler', 'curiosa', 'script', 'volunteer', 'ledger', 'enjoyment', 'section', 'lichgate', 'scabies', 'occult', 'novel', 'unharness', 'volume', 'publication', 'product', 'maneuver', 'light'], 'query': ('book', 10)}\n",
      "Output: ['script', 'ledger', 'volume', 'section', 'catalog', 'notebook', 'novel', 'curiosa', 'product', 'publication']\n",
      "\n",
      "\n",
      "Training Instance 2:\n",
      "Input: {'board': ['birch', 'chicken', 'unharness', 'volunteer', 'Denebola', 'enjoyment', 'water', 'manufacture', 'punishment', 'light', 'Sistrurus', 'infrastructure', 'kingwood', 'dust', 'gallon', 'laurelwood', 'neoliberalism', 'gash', 'argumentative', 'bore', 'enzyme', 'breakfast', 'measure', 'diastema', 'insistence'], 'query': ('tree', 3)}\n",
      "Output: ['kingwood', 'birch', 'laurelwood']\n",
      "\n",
      "\n",
      "Training Instance 3:\n",
      "Input: {'board': ['neurosis', 'Sistrurus', 'metal', 'lichgate', 'penance', 'nationalize', 'enjoyment', 'volunteer', 'kingwood', 'breakfast', 'birch', 'light', 'outdo', 'trunk', 'stump', 'peacekeeping', 'laurelwood', 'hook', 'lucidity', 'limb', 'lancewood', 'court', 'unharness', 'sacrament', 'maneuver'], 'query': ('tree', 9)}\n",
      "Output: ['kingwood', 'birch', 'laurelwood', 'lancewood', 'trunk', 'stump', 'limb', 'metal', 'hook']\n",
      "\n",
      "\n"
     ]
    }
   ],
   "source": [
    "training_instances = generate_training_instances(3)\n",
    "for idx, (input_instance, output_instance) in enumerate(training_instances):\n",
    "    print(f\"Training Instance {idx + 1}:\")\n",
    "    print(\"Input:\", input_instance)\n",
    "    print(\"Output:\", output_instance)\n",
    "    print(\"\\n\")"
   ]
  },
  {
   "cell_type": "code",
   "execution_count": 5,
   "metadata": {},
   "outputs": [
    {
     "name": "stdout",
     "output_type": "stream",
     "text": [
      "Elapsed time for fetching random concepts: 11.01 seconds (http://api.conceptnet.io/query?node=/c/en&offset=28&limit=100)\n",
      "Elapsed time for fetching random concepts: 14.34 seconds (http://api.conceptnet.io/query?node=/c/en&offset=30&limit=100)\n",
      "Elapsed time for fetching random concepts: 16.87 seconds (http://api.conceptnet.io/query?node=/c/en&offset=66&limit=100)\n",
      "Elapsed time for fetching random concepts: 11.64 seconds (http://api.conceptnet.io/query?node=/c/en&offset=98&limit=100)\n",
      "Elapsed time for fetching random concepts: 15.04 seconds (http://api.conceptnet.io/query?node=/c/en&offset=41&limit=100)\n"
     ]
    }
   ],
   "source": [
    "for _ in range(5):\n",
    "    start_time = time.time()\n",
    "    get_random_concepts(17, lang=\"en\")\n",
    "    "
   ]
  }
 ],
 "metadata": {
  "kernelspec": {
   "display_name": ".venv",
   "language": "python",
   "name": "python3"
  },
  "language_info": {
   "codemirror_mode": {
    "name": "ipython",
    "version": 3
   },
   "file_extension": ".py",
   "mimetype": "text/x-python",
   "name": "python",
   "nbconvert_exporter": "python",
   "pygments_lexer": "ipython3",
   "version": "3.11.9"
  }
 },
 "nbformat": 4,
 "nbformat_minor": 2
}
