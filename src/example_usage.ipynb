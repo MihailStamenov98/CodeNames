{
 "cells": [
  {
   "cell_type": "code",
   "execution_count": 19,
   "metadata": {},
   "outputs": [],
   "source": [
    "import main\n",
    "import importlib\n",
    "importlib.reload(main)\n",
    "from main import *"
   ]
  },
  {
   "cell_type": "code",
   "execution_count": 17,
   "metadata": {},
   "outputs": [
    {
     "name": "stdout",
     "output_type": "stream",
     "text": [
      "Training Instance 1:\n",
      "Input: {'board': ['by accident', 'red fruit', 'random', 'ergodic', 'paroxysm', 'button mashing', 'unrandom', 'randomlike', 'non random', 'stochastic', 'fruit', 'An apple', 'hit-or-miss', 'hyperdispersed', 'rando', 'fisher yates shuffle', 'significance level', 'boltzmann brain', 'aleatory', 'red', 'smash stack', 'scattering', 'cinematogram', 'genetic drift', 'birthday paradox'], 'query': ('apple', 4)}\n",
      "Output: ['fruit', 'red', 'An apple', 'red fruit']\n",
      "\n",
      "\n",
      "Training Instance 2:\n",
      "Input: {'board': ['paroxysm', 'rando', 'ataxia', 'random', 'raffle', 'aleatory', 'randomlike', 'scattering', 'boltzmann brain', 'cinematogram', 'ergodic', 'hyperdispersed', 'stochastic', 'hit-or-miss', 'unrandom', 'birthday paradox', 'dance', 'significance level', 'button mashing', 'by accident', 'genetic drift', 'randomish', 'fisher yates shuffle', 'smash stack', 'non random'], 'query': ('music', 1)}\n",
      "Output: ['dance']\n",
      "\n",
      "\n",
      "Training Instance 3:\n",
      "Input: {'board': ['ergodic', 'steam', 'hit-or-miss', 'randomlike', 'stochastic', 'aleatory', 'hyperdispersed', 'button mashing', 'significance level', 'scattering', 'paroxysm', 'unrandom', 'swim', 'smash stack', 'boltzmann brain', 'rain', 'birthday paradox', 'random', 'by accident', 'rando', 'cinematogram', 'non random', 'genetic drift', 'river', 'fisher yates shuffle'], 'query': ('water', 4)}\n",
      "Output: ['river', 'steam', 'rain', 'swim']\n",
      "\n",
      "\n"
     ]
    }
   ],
   "source": [
    "training_instances = generate_training_instances(3)\n",
    "for idx, (input_instance, output_instance) in enumerate(training_instances):\n",
    "    print(f\"Training Instance {idx + 1}:\")\n",
    "    print(\"Input:\", input_instance)\n",
    "    print(\"Output:\", output_instance)\n",
    "    print(\"\\n\")"
   ]
  },
  {
   "cell_type": "code",
   "execution_count": 20,
   "metadata": {},
   "outputs": [
    {
     "name": "stdout",
     "output_type": "stream",
     "text": [
      "[[An engine ]] is part of [[a car ]] and *Something you find in [[an engine]] is [[oil]] and \n"
     ]
    }
   ],
   "source": [
    "# Example: Extract relationship between Car, Gasoline, and Engine\n",
    "print(extract_n_ary_relations(['car', 'engine', 'oil']))"
   ]
  }
 ],
 "metadata": {
  "kernelspec": {
   "display_name": "Python 3",
   "language": "python",
   "name": "python3"
  },
  "language_info": {
   "codemirror_mode": {
    "name": "ipython",
    "version": 3
   },
   "file_extension": ".py",
   "mimetype": "text/x-python",
   "name": "python",
   "nbconvert_exporter": "python",
   "pygments_lexer": "ipython3",
   "version": "3.12.7"
  }
 },
 "nbformat": 4,
 "nbformat_minor": 2
}
